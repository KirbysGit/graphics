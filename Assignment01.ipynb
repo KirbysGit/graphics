{
 "cells": [
  {
   "cell_type": "markdown",
   "id": "e7d35ff6-3dcf-47cf-a391-3aede9e29173",
   "metadata": {},
   "source": [
    "# Assignment 1 : Colin Kirby"
   ]
  },
  {
   "cell_type": "code",
   "execution_count": 2,
   "id": "64391252-9700-492c-a0b0-936443e7ee27",
   "metadata": {},
   "outputs": [
    {
     "name": "stdout",
     "output_type": "stream",
     "text": [
      "pygame 2.6.0 (SDL 2.28.4, Python 3.12.4)\n",
      "Hello from the pygame community. https://www.pygame.org/contribute.html\n"
     ]
    }
   ],
   "source": [
    "import pygame"
   ]
  },
  {
   "cell_type": "code",
   "execution_count": null,
   "id": "ed0be7bb-21f0-4ef6-8a2e-3882bb0a3648",
   "metadata": {},
   "outputs": [],
   "source": [
    "pygame.init()\n",
    "clock = pygame.time.Clock()\n",
    "display = pygame.display.set_mode((800, 600))\n",
    "pygame.display.set_caption(title = \"Assignment 01: Colin Kirby\")\n",
    "running = True\n",
    "while running:\n",
    "    clock.tick(30)\n",
    "    for event in pygame.event.get(): # poll for events\n",
    "        if event.type == pygame.QUIT or (event.type == pygame.KEYDOWN and event.key == 27):\n",
    "            running = False  # Keep the color value between 0 and 255\n",
    "        display.fill((255, 0, 0)) # try changing r,g,b values\n",
    "        pygame.display.flip()\n",
    "pygame.quit()"
   ]
  },
  {
   "cell_type": "code",
   "execution_count": null,
   "id": "f3fc3610-7dcb-4df0-a2f3-72332e3ef6a1",
   "metadata": {},
   "outputs": [],
   "source": []
  }
 ],
 "metadata": {
  "kernelspec": {
   "display_name": "Python 3 (ipykernel)",
   "language": "python",
   "name": "python3"
  },
  "language_info": {
   "codemirror_mode": {
    "name": "ipython",
    "version": 3
   },
   "file_extension": ".py",
   "mimetype": "text/x-python",
   "name": "python",
   "nbconvert_exporter": "python",
   "pygments_lexer": "ipython3",
   "version": "3.12.4"
  }
 },
 "nbformat": 4,
 "nbformat_minor": 5
}
