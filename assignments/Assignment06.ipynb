{
 "cells": [
  {
   "cell_type": "markdown",
   "id": "4e40f5ae-ac04-4426-87b9-6593e90aff66",
   "metadata": {},
   "source": [
    "Assignment 06 : Colin Kirby"
   ]
  },
  {
   "cell_type": "code",
   "execution_count": 1,
   "id": "2cdb40fa-0edd-41cc-9254-9c55afc41563",
   "metadata": {},
   "outputs": [
    {
     "name": "stdout",
     "output_type": "stream",
     "text": [
      "pygame 2.6.0 (SDL 2.28.4, Python 3.12.2)\n",
      "Hello from the pygame community. https://www.pygame.org/contribute.html\n"
     ]
    }
   ],
   "source": [
    "# Imports.\n",
    "import pygame\n",
    "import moderngl\n",
    "import glm\n",
    "import numpy as np\n",
    "from LoadObject import getObjectData\n",
    "from Assignment6Specs import scaleFactors, angles, tVectors  # Import scaling, rotation, and translation data"
   ]
  },
  {
   "cell_type": "code",
   "execution_count": 2,
   "id": "2b650d35-ef12-4bd7-979f-b41b1100584b",
   "metadata": {},
   "outputs": [],
   "source": [
    "# Initialize Pygame & OpenGL.\n",
    "def init_window(width=800, height=600):\n",
    "    pygame.init()\n",
    "    pygame.display.set_mode((width, height), pygame.OPENGL | pygame.DOUBLEBUF)\n",
    "    pygame.display.set_caption(\"Assignment 06: Colin Kirby\")\n",
    "\n",
    "    # Create and Set up OpenGL.\n",
    "    ctx = moderngl.create_context()\n",
    "    \n",
    "    ctx.enable(moderngl.CULL_FACE)\n",
    "    ctx.enable(moderngl.DEPTH_TEST)\n",
    "\n",
    "    return ctx"
   ]
  },
  {
   "cell_type": "code",
   "execution_count": 3,
   "id": "b451f148-17d6-4336-9a43-298a53a51692",
   "metadata": {},
   "outputs": [],
   "source": [
    "# Initialize Window.\n",
    "ctx = init_window()"
   ]
  },
  {
   "cell_type": "code",
   "execution_count": 4,
   "id": "b5d4db53-c63e-4a5e-8b54-b54b5f02f1b9",
   "metadata": {},
   "outputs": [
    {
     "name": "stdout",
     "output_type": "stream",
     "text": [
      "Normal computed.\n"
     ]
    }
   ],
   "source": [
    "# Load the Vertex Data for our Platform based on the hexahedron.obj.\n",
    "vertex_data_platform, _ = getObjectData(\"6_hexahedron.obj\", normal=True)"
   ]
  },
  {
   "cell_type": "code",
   "execution_count": 5,
   "id": "bb4ceda9-2cea-46ff-9031-971a7c51cecb",
   "metadata": {},
   "outputs": [
    {
     "name": "stdout",
     "output_type": "stream",
     "text": [
      "Normal exists\n"
     ]
    }
   ],
   "source": [
    "# Load the Vertex Data for the Teapot.\n",
    "vertex_data_teapot, _ = getObjectData(\"teapot.obj\", normal=True)"
   ]
  },
  {
   "cell_type": "code",
   "execution_count": 6,
   "id": "72cd90da-58a7-4db3-a95c-c648ee5c6173",
   "metadata": {},
   "outputs": [],
   "source": [
    "# Global VAO.\n",
    "vao_platform = None\n",
    "vao_teapot = None\n",
    "program_platform = None\n",
    "program_teapot = None"
   ]
  },
  {
   "cell_type": "code",
   "execution_count": 7,
   "id": "1a762672-57af-4e4b-8d08-c67fa43a80c8",
   "metadata": {},
   "outputs": [],
   "source": [
    "# Upload the Vertex Data for Platform. \n",
    "def set_vert_data_platform():\n",
    "    global vao_platform, program_platform\n",
    "\n",
    "    # Convert Vertex Data to NP Array.\n",
    "    vertex_data_platform_np = np.array(vertex_data_platform, dtype='f4')\n",
    "    \n",
    "    # Create a buff on GPU & Load Vertex Data.\n",
    "    vbo_platform = ctx.buffer(vertex_data_platform_np.tobytes())\n",
    "\n",
    "    # Compile Shader Program.\n",
    "    program_platform = ctx.program(\n",
    "        # Vertex Shaders.\n",
    "        vertex_shader=\"\"\" \n",
    "        #version 330\n",
    "        in vec3 in_position;\n",
    "        in vec3 in_normal;\n",
    "\n",
    "        // Uniform matrices for model, view, and projection transformations\n",
    "        uniform mat4 model;\n",
    "        uniform mat4 view;\n",
    "        uniform mat4 proj;\n",
    "\n",
    "        out vec3 frag_normal;\n",
    "\n",
    "        void main() {\n",
    "            frag_normal = in_normal;  // Pass normal vector to fragment shader\n",
    "            gl_Position = proj * view * model * vec4(in_position, 1.0);  // Apply transformation matrices\n",
    "        }\n",
    "        \"\"\",\n",
    "        # Fragment Shaders.\n",
    "        fragment_shader=\"\"\"\n",
    "        #version 330\n",
    "        in vec3 frag_normal;\n",
    "        out vec4 frag_color;\n",
    "\n",
    "        void main() {\n",
    "            // Compute color based on the normal direction\n",
    "            vec3 color = normalize(frag_normal) * 0.5 + 0.5;\n",
    "            frag_color = vec4(color, 1.0);\n",
    "        }\n",
    "        \"\"\"\n",
    "    )\n",
    "\n",
    "    # Create the VAO for the Platform.\n",
    "    vao_platform = ctx.vertex_array(\n",
    "        program_platform,\n",
    "        [\n",
    "            (vbo_platform, '3f 3f', 'in_position', 'in_normal')\n",
    "        ]\n",
    "    )\n"
   ]
  },
  {
   "cell_type": "code",
   "execution_count": 8,
   "id": "8734e332-2d8f-4f13-ad20-b086f3a655e6",
   "metadata": {},
   "outputs": [],
   "source": [
    "# Upload Vertex Data for Teapot.\n",
    "def set_vert_data_teapot():\n",
    "    global vao_teapot, program_teapot\n",
    "\n",
    "    # Convert Teapot Vertex Data & Convert to NP Array.\n",
    "    vertex_data_teapot_np = np.array(vertex_data_teapot, dtype='f4')\n",
    "    \n",
    "    # Create buff on GPU & load Teapot Vertex Data.\n",
    "    vbo_teapot = ctx.buffer(vertex_data_teapot_np.tobytes())\n",
    "\n",
    "    # Compile Shader Program.\n",
    "    program_teapot = ctx.program(\n",
    "        # Vertex Shaders.\n",
    "        vertex_shader=\"\"\"\n",
    "        #version 330\n",
    "        in vec3 in_position;\n",
    "        in vec3 in_normal;\n",
    "        in mat4 in_modelMat;  // Instance matrix for each teapot\n",
    "\n",
    "        uniform mat4 view;\n",
    "        uniform mat4 proj;\n",
    "\n",
    "        out vec3 frag_normal;\n",
    "\n",
    "        void main() {\n",
    "            frag_normal = in_normal;  // Pass normal to fragment shader\n",
    "            // Apply projection, view, and model transformation matrices to the position\n",
    "            gl_Position = proj * view * in_modelMat * vec4(in_position, 1.0);\n",
    "        }\n",
    "        \"\"\",\n",
    "        # Fragment Shaders.\n",
    "        fragment_shader=\"\"\"\n",
    "        #version 330\n",
    "        in vec3 frag_normal;\n",
    "        out vec4 frag_color;\n",
    "\n",
    "        void main() {\n",
    "            // Compute fragment color based on normal direction\n",
    "            vec3 color = normalize(frag_normal) * 0.5 + 0.5;\n",
    "            frag_color = vec4(color, 1.0);\n",
    "        }\n",
    "        \"\"\"\n",
    "    )\n",
    "\n",
    "    # Initialize Matrices for Transformation for All Teapots.\n",
    "    model_matrices = []\n",
    "    num_teapots = 100 # Teapots to Render.\n",
    "    \n",
    "    for i in range(num_teapots):\n",
    "        model_matrix = glm.mat4(1.0)  # Initialize Matrix.\n",
    "        \n",
    "        # Apply Translation (Move the Teapots) based on the tVectors.\n",
    "        tx, ty, tz = tVectors[i]\n",
    "        model_matrix = glm.translate(model_matrix, glm.vec3(tx, ty, tz)) \n",
    "        \n",
    "        # Apply Rotation (Rotate the Teapots) based on the angles.\n",
    "        model_matrix = glm.rotate(model_matrix, glm.radians(angles[i]), glm.vec3(0.0, 1.0, 0.0))\n",
    "        \n",
    "        # Apply Scaling (Adjust Teapot Size) based on the scaleFactors.\n",
    "        model_matrix = glm.scale(model_matrix, glm.vec3(scaleFactors[i]))  \n",
    "        \n",
    "        # Convert GLM Matrix to Python List & Add to Matrices.\n",
    "        model_matrices.append(list(model_matrix))  # Store transformation matrices\n",
    "    \n",
    "    # Convert Matrices to NP Array.\n",
    "    model_matrices_np = np.array(model_matrices).astype('float32')\n",
    "    \n",
    "    # Upload Transformation Matrices.\n",
    "    model_mat_buffer = ctx.buffer(model_matrices_np.tobytes())\n",
    "    \n",
    "    # Create VAO for Teapots.\n",
    "    vao_teapot = ctx.vertex_array(\n",
    "        program_teapot,\n",
    "        [\n",
    "            (vbo_teapot, '3f 3f /v', 'in_position', 'in_normal'),\n",
    "            (model_mat_buffer, '16f /i', 'in_modelMat')\n",
    "        ]\n",
    "    )"
   ]
  },
  {
   "cell_type": "code",
   "execution_count": 9,
   "id": "f1aac460-f376-45ff-8cab-fafc57215802",
   "metadata": {},
   "outputs": [],
   "source": [
    "# Initialize Vertex Data.\n",
    "set_vert_data_platform()\n",
    "set_vert_data_teapot()"
   ]
  },
  {
   "cell_type": "code",
   "execution_count": 10,
   "id": "dba4fe80-7bae-49c7-b8f7-8ad1332edb8b",
   "metadata": {},
   "outputs": [],
   "source": [
    "# Create Proj Matrix based on provided Details.\n",
    "fov = 60.0  \n",
    "width, height = 800, 600\n",
    "aspect_ratio = width / height  \n",
    "near_plane = 10.0  \n",
    "far_plane = 45.0 "
   ]
  },
  {
   "cell_type": "code",
   "execution_count": 11,
   "id": "2355fd27-0c9e-4999-a1a1-3019b5cf34ec",
   "metadata": {},
   "outputs": [],
   "source": [
    "# Create Perpective Proj Matrix w/ All Details Above.\n",
    "proj_matrix = glm.perspective(glm.radians(fov), aspect_ratio, near_plane, far_plane)"
   ]
  },
  {
   "cell_type": "code",
   "execution_count": 12,
   "id": "ebe0bac5-8305-4810-90d0-7c5490b21344",
   "metadata": {},
   "outputs": [],
   "source": [
    "# Calcualtes Position of Camera for Orbiting Effect.\n",
    "def calculate_orbit_camera_position(time_in_seconds):\n",
    "    radius = 25.0\n",
    "    initial_camera_vec = glm.vec3(20.0, 10.0, 0.0) # Provided in Assignment Details.\n",
    "    initial_camera_vec = glm.normalize(initial_camera_vec)\n",
    "\n",
    "    # Scale the Direction Vector by Camera Distance.\n",
    "    camera_position = radius * initial_camera_vec\n",
    "\n",
    "    # Rotate Camera around Y-Axis. (Orbiting Effect)\n",
    "    angle_in_radians = time_in_seconds\n",
    "    rotation_matrix = glm.rotate(glm.mat4(1.0), angle_in_radians, glm.vec3(0.0, 1.0, 0.0))\n",
    "    rotated_camera_position = rotation_matrix * glm.vec4(camera_position, 1.0)\n",
    "\n",
    "    # Return Cam Position.\n",
    "    return glm.vec3(rotated_camera_position) "
   ]
  },
  {
   "cell_type": "code",
   "execution_count": 13,
   "id": "02ce0887-7c27-4aa6-b207-ea6fc83c7a3b",
   "metadata": {},
   "outputs": [],
   "source": [
    "# Rendering Loop.\n",
    "running = True\n",
    "\n",
    "while running:\n",
    "    for event in pygame.event.get():\n",
    "        if event.type == pygame.QUIT:\n",
    "            running = False\n",
    "\n",
    "    # Set up Model Matrix for Platform (Scaling & Translations)\n",
    "    model_matrix_platform = glm.mat4(1.0)\n",
    "    model_matrix_platform = glm.translate(model_matrix_platform, glm.vec3(0.0, 0.0, 0.0))  # Translate to lower platform\n",
    "    model_matrix_platform = glm.scale(model_matrix_platform, glm.vec3(10.0, 0.05, 10.0))  # Scale to create large flat surface\n",
    "\n",
    "    # Get Time for Calculating Cam Position.\n",
    "    time_in_seconds = pygame.time.get_ticks() / 1000.0\n",
    "\n",
    "    # Calculate Camera Position.\n",
    "    eye_position = calculate_orbit_camera_position(time_in_seconds)\n",
    "\n",
    "    # Set Up View Matrix.\n",
    "    view_matrix = glm.lookAt(\n",
    "        eye_position,  # Camera Position.\n",
    "        glm.vec3(0.0, 0.0, 0.0),  # Look at Origin.\n",
    "        glm.vec3(0.0, 1.0, 0.0)   # Up Vector.\n",
    "    )\n",
    "\n",
    "    # Render Platform.\n",
    "    if vao_platform is not None and program_platform is not None:\n",
    "        try:\n",
    "            # Convert Matrices to Byte Format.\n",
    "            model_bytes_platform = np.array(model_matrix_platform, dtype='f4').T.flatten().tobytes()\n",
    "            view_bytes = np.array(view_matrix, dtype='f4').T.flatten().tobytes()\n",
    "            proj_bytes = np.array(proj_matrix, dtype='f4').T.flatten().tobytes()\n",
    "\n",
    "            # Write Transformation Matrices.\n",
    "            program_platform['model'].write(model_bytes_platform)\n",
    "            program_platform['view'].write(view_bytes)\n",
    "            program_platform['proj'].write(proj_bytes)\n",
    "\n",
    "            # Clear Screen.\n",
    "            ctx.clear(0.1, 0.1, 0.1)\n",
    "            vao_platform.render(moderngl.TRIANGLES)  # Render Platform.\n",
    "\n",
    "        except Exception as e:\n",
    "            pass \n",
    "\n",
    "    # Render Teapots.\n",
    "    if vao_teapot is not None and program_teapot is not None:\n",
    "        try:\n",
    "            # Upload View and Projection Matrices.\n",
    "            view_bytes = np.array(view_matrix, dtype='f4').T.flatten().tobytes()\n",
    "            proj_bytes = np.array(proj_matrix, dtype='f4').T.flatten().tobytes()\n",
    "\n",
    "            # Write View and Projection Matrices.\n",
    "            program_teapot['view'].write(view_bytes)\n",
    "            program_teapot['proj'].write(proj_bytes)\n",
    "\n",
    "            # Render 100 Teapots.\n",
    "            vao_teapot.render(instances=100)\n",
    "\n",
    "        except Exception as e:\n",
    "            pass\n",
    "\n",
    "    # Swap Display Buffers.\n",
    "    pygame.display.flip()\n",
    "\n",
    "# Clean Up.\n",
    "pygame.quit()"
   ]
  }
 ],
 "metadata": {
  "kernelspec": {
   "display_name": "Python 3 (ipykernel)",
   "language": "python",
   "name": "python3"
  },
  "language_info": {
   "codemirror_mode": {
    "name": "ipython",
    "version": 3
   },
   "file_extension": ".py",
   "mimetype": "text/x-python",
   "name": "python",
   "nbconvert_exporter": "python",
   "pygments_lexer": "ipython3",
   "version": "3.12.2"
  }
 },
 "nbformat": 4,
 "nbformat_minor": 5
}
