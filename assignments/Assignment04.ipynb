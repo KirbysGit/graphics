{
 "cells": [
  {
   "cell_type": "markdown",
   "id": "df758c95-8e2d-4d25-b6e6-c41fbeab4be9",
   "metadata": {},
   "source": [
    "Assignment 4 : Colin Kirby"
   ]
  },
  {
   "cell_type": "code",
   "execution_count": 1,
   "id": "e6a22557-6367-4c6f-a434-19305afe0e5f",
   "metadata": {},
   "outputs": [
    {
     "name": "stdout",
     "output_type": "stream",
     "text": [
      "pygame 2.6.0 (SDL 2.28.4, Python 3.12.2)\n",
      "Hello from the pygame community. https://www.pygame.org/contribute.html\n"
     ]
    }
   ],
   "source": [
    "# Imports.\n",
    "import pygame\n",
    "import moderngl\n",
    "import glm\n",
    "import numpy as np\n",
    "from LoadObject import getObjectData"
   ]
  },
  {
   "cell_type": "code",
   "execution_count": 2,
   "id": "72eb0daf-cc22-4064-9e61-29a3923cb285",
   "metadata": {},
   "outputs": [],
   "source": [
    "# Initialize Pygame and OpenGL like in prev. Assignments.\n",
    "def init_window(width=800, height=600):\n",
    "    pygame.init()\n",
    "    pygame.display.set_mode((width, height), pygame.OPENGL | pygame.DOUBLEBUF)\n",
    "    pygame.display.set_caption(\"Assignment 4: Colin Kirby\")\n",
    "    \n",
    "    # Create and Set up Context.\n",
    "    ctx = moderngl.create_context()\n",
    "    ctx.enable(moderngl.CULL_FACE)\n",
    "    ctx.enable(moderngl.DEPTH_TEST)\n",
    "    \n",
    "    print(\"Context initialized with depth test and cull face enabled.\")\n",
    "    \n",
    "    return ctx"
   ]
  },
  {
   "cell_type": "code",
   "execution_count": 3,
   "id": "49fd08a8-baef-45a1-9c55-48255953f181",
   "metadata": {},
   "outputs": [
    {
     "name": "stdout",
     "output_type": "stream",
     "text": [
      "Context initialized with depth test and cull face enabled.\n"
     ]
    }
   ],
   "source": [
    "# Initialize Window.\n",
    "ctx = init_window()"
   ]
  },
  {
   "cell_type": "code",
   "execution_count": 4,
   "id": "b0484074-0528-4a26-b353-aeaf0edad217",
   "metadata": {},
   "outputs": [],
   "source": [
    "# Dictionary to set key inp to Obj.\n",
    "my_objects = {\n",
    "    pygame.K_1: \"teapot.obj\",\n",
    "    pygame.K_2: \"4_tetrahedron.obj\",\n",
    "    pygame.K_3: \"6_hexahedron.obj\",\n",
    "    pygame.K_4: \"8_octahedron.obj\",\n",
    "    pygame.K_5: \"12_dodecahedron.obj\",\n",
    "    pygame.K_6: \"20_icosahedron.obj\"\n",
    "}"
   ]
  },
  {
   "cell_type": "code",
   "execution_count": 5,
   "id": "5c3bb27a-e501-4cfa-9dcf-2f143adc27d8",
   "metadata": {},
   "outputs": [
    {
     "name": "stdout",
     "output_type": "stream",
     "text": [
      "Normal exists\n"
     ]
    }
   ],
   "source": [
    "# Set Default to Teapot.\n",
    "current_obj = \"teapot.obj\"\n",
    "vertex_data, scene_bound = getObjectData(current_obj, normal=True)"
   ]
  },
  {
   "cell_type": "code",
   "execution_count": 6,
   "id": "22d1980a-cac4-4264-8c95-7c7156a019e0",
   "metadata": {},
   "outputs": [],
   "source": [
    "#Debugging: Print vertex data length\n",
    "#print(\"Vertex Data Length:\", len(vertex_data))\n",
    "#if len(vertex_data) % 6 != 0:\n",
    "    #print(\"Error: Vertex data length is not a multiple of 6, normals might be missing!\")"
   ]
  },
  {
   "cell_type": "code",
   "execution_count": 7,
   "id": "061f2336-59c4-44d2-9376-e2f5ccc51137",
   "metadata": {},
   "outputs": [],
   "source": [
    "# Global VAO obj and Program.\n",
    "vao = None\n",
    "program = None"
   ]
  },
  {
   "cell_type": "code",
   "execution_count": 8,
   "id": "264835dd-3d32-4403-acc3-ec3d71ce9feb",
   "metadata": {},
   "outputs": [],
   "source": [
    "# Upload the vertex data to the GPU\n",
    "def set_vert_data():\n",
    "    global vao, program, vertex_data\n",
    "    print(\"Uploading vertex data to GPU...\")\n",
    "    \n",
    "    try:\n",
    "        # Ensure vertex_data is a numpy array of float32\n",
    "        vertex_data = np.array(vertex_data, dtype='f4')\n",
    "        \n",
    "        # Create a VBO with the current object's data\n",
    "        vbo = ctx.buffer(vertex_data.tobytes())\n",
    "        \n",
    "        # Compile shader program\n",
    "        program = ctx.program(\n",
    "            vertex_shader=\"\"\"\n",
    "            #version 330\n",
    "            in vec3 in_position;\n",
    "            in vec3 in_normal;\n",
    "            uniform mat4 model;\n",
    "            uniform mat4 view;\n",
    "            uniform mat4 proj;\n",
    "            out vec3 frag_normal;\n",
    "\n",
    "            void main() {\n",
    "                frag_normal = in_normal;\n",
    "                gl_Position = proj * view * model * vec4(in_position, 1.0);\n",
    "            }\n",
    "            \"\"\",\n",
    "            fragment_shader=\"\"\"\n",
    "            #version 330\n",
    "            in vec3 frag_normal;\n",
    "            out vec4 frag_color;\n",
    "\n",
    "            void main() {\n",
    "                vec3 color = normalize(frag_normal) * 0.5 + 0.5;  // Compute color from normal\n",
    "                frag_color = vec4(color, 1.0);\n",
    "            }\n",
    "            \"\"\"\n",
    "        )\n",
    "    \n",
    "        \n",
    "        # Define the vertex layout (interleaving position and normal data)\n",
    "        vao = ctx.vertex_array(\n",
    "            program,\n",
    "            [\n",
    "                (vbo, '3f 3f', 'in_position', 'in_normal')  # 3 floats for position, 3 for normal\n",
    "            ]\n",
    "        )\n",
    "        \n",
    "    \n",
    "    except Exception as e:\n",
    "        print(\"Error uploading vertex data:\", e)"
   ]
  },
  {
   "cell_type": "code",
   "execution_count": 9,
   "id": "7b5abcbd-e8c6-48df-8759-be31482742ef",
   "metadata": {},
   "outputs": [
    {
     "name": "stdout",
     "output_type": "stream",
     "text": [
      "Uploading vertex data to GPU...\n"
     ]
    }
   ],
   "source": [
    "# Upload the vertex data for the initial object\n",
    "set_vert_data()"
   ]
  },
  {
   "cell_type": "code",
   "execution_count": 10,
   "id": "c6e4fe0c-5c08-43c0-b674-e94a855ee42b",
   "metadata": {},
   "outputs": [],
   "source": [
    "# Create projection and view matrices\n",
    "fov = 45.0\n",
    "width, height = 800, 600\n",
    "aspect_ratio = width / height\n",
    "near_plane = 0.1\n",
    "far_plane = 100.0\n",
    "\n",
    "proj_matrix = glm.perspective(glm.radians(fov), aspect_ratio, near_plane, far_plane)"
   ]
  },
  {
   "cell_type": "code",
   "execution_count": 11,
   "id": "23ce3214-9011-4338-876c-470501a5e7da",
   "metadata": {},
   "outputs": [],
   "source": [
    "view_matrix = glm.lookAt(\n",
    "    glm.vec3(-5.0, 3.0, 10.0),\n",
    "    glm.vec3(0.0, 0.0, 0.0),\n",
    "    glm.vec3(0.0, 1.0, 0.0) \n",
    ")"
   ]
  },
  {
   "cell_type": "code",
   "execution_count": 12,
   "id": "c2763d43-977d-46b6-b529-96731109aa67",
   "metadata": {},
   "outputs": [],
   "source": [
    "# Func for handling diff Inp and Loading Objs.\n",
    "def handle_keypress(event):\n",
    "    global current_obj, vertex_data, scene_bound\n",
    "    if event.key in my_objects:\n",
    "        current_obj = my_objects[event.key]\n",
    "        vertex_data, scene_bound = getObjectData(current_obj, normal=True)\n",
    "        set_vert_data()"
   ]
  },
  {
   "cell_type": "code",
   "execution_count": 13,
   "id": "0f1a7723-189a-411e-b2d9-f5996d0373b0",
   "metadata": {},
   "outputs": [],
   "source": [
    "# Just translations bc Teapot was positioned higher than other objects for some reason.\n",
    "translations = {\n",
    "    \"4_tetrahedron.obj\": glm.vec3(0.0, 0.0, 0.0),  \n",
    "    \"6_hexahedron.obj\": glm.vec3(0.0, 0.0, 0.0),\n",
    "    \"8_octahedron.obj\": glm.vec3(0.0, 0.0, 0.0),\n",
    "    \"12_dodecahedron.obj\": glm.vec3(0.0, 0.0, 0.0),\n",
    "    \"20_icosahedron.obj\": glm.vec3(0.0, 0.0, 0.0),\n",
    "    \"teapot.obj\": glm.vec3(0.0, -1.0, 0.0),\n",
    "}"
   ]
  },
  {
   "cell_type": "code",
   "execution_count": 14,
   "id": "724b3205-213a-4683-af4b-1359c6fdc8fd",
   "metadata": {},
   "outputs": [
    {
     "name": "stdout",
     "output_type": "stream",
     "text": [
      "Normal computed.\n",
      "Uploading vertex data to GPU...\n",
      "Normal computed.\n",
      "Uploading vertex data to GPU...\n",
      "Normal computed.\n",
      "Uploading vertex data to GPU...\n",
      "Normal computed.\n",
      "Uploading vertex data to GPU...\n",
      "Normal computed.\n",
      "Uploading vertex data to GPU...\n",
      "Normal computed.\n",
      "Uploading vertex data to GPU...\n",
      "Normal computed.\n",
      "Uploading vertex data to GPU...\n",
      "Normal computed.\n",
      "Uploading vertex data to GPU...\n",
      "Normal computed.\n",
      "Uploading vertex data to GPU...\n",
      "Normal computed.\n",
      "Uploading vertex data to GPU...\n",
      "Normal computed.\n",
      "Uploading vertex data to GPU...\n",
      "Normal computed.\n",
      "Uploading vertex data to GPU...\n",
      "Normal computed.\n",
      "Uploading vertex data to GPU...\n",
      "Normal computed.\n",
      "Uploading vertex data to GPU...\n",
      "Normal computed.\n",
      "Uploading vertex data to GPU...\n",
      "Normal exists\n",
      "Uploading vertex data to GPU...\n",
      "Normal computed.\n",
      "Uploading vertex data to GPU...\n",
      "Normal computed.\n",
      "Uploading vertex data to GPU...\n",
      "Normal computed.\n",
      "Uploading vertex data to GPU...\n",
      "Normal computed.\n",
      "Uploading vertex data to GPU...\n",
      "Normal computed.\n",
      "Uploading vertex data to GPU...\n",
      "Normal computed.\n",
      "Uploading vertex data to GPU...\n",
      "Normal computed.\n",
      "Uploading vertex data to GPU...\n",
      "Normal computed.\n",
      "Uploading vertex data to GPU...\n",
      "Normal computed.\n",
      "Uploading vertex data to GPU...\n",
      "Normal exists\n",
      "Uploading vertex data to GPU...\n",
      "Normal computed.\n",
      "Uploading vertex data to GPU...\n",
      "Normal computed.\n",
      "Uploading vertex data to GPU...\n",
      "Normal computed.\n",
      "Uploading vertex data to GPU...\n",
      "Normal exists\n",
      "Uploading vertex data to GPU...\n",
      "Normal computed.\n",
      "Uploading vertex data to GPU...\n",
      "Normal computed.\n",
      "Uploading vertex data to GPU...\n",
      "Normal exists\n",
      "Uploading vertex data to GPU...\n",
      "Normal computed.\n",
      "Uploading vertex data to GPU...\n",
      "Normal computed.\n",
      "Uploading vertex data to GPU...\n",
      "Normal computed.\n",
      "Uploading vertex data to GPU...\n",
      "Normal computed.\n",
      "Uploading vertex data to GPU...\n",
      "Normal computed.\n",
      "Uploading vertex data to GPU...\n",
      "Normal computed.\n",
      "Uploading vertex data to GPU...\n",
      "Normal computed.\n",
      "Uploading vertex data to GPU...\n"
     ]
    }
   ],
   "source": [
    "# Global Vars.\n",
    "global vao, program, current_obj\n",
    "    \n",
    "running = True\n",
    "    \n",
    "while running:\n",
    "    for event in pygame.event.get():\n",
    "        if event.type == pygame.QUIT:\n",
    "            running = False\n",
    "        elif event.type == pygame.KEYDOWN:\n",
    "            handle_keypress(event)\n",
    "\n",
    "    # Set up Matrix.\n",
    "    model_matrix = glm.mat4(1.0)\n",
    "        \n",
    "    # Using the Translations Dictionary.\n",
    "    translation_vector = translations.get(current_obj, glm.vec3(0.0, 0.0, 0.0))\n",
    "    model_matrix = glm.translate(model_matrix, translation_vector)\n",
    "\n",
    "    # Write Matrices to Shader.\n",
    "    if vao is not None and program is not None:\n",
    "        try:\n",
    "            # Convert Matrices to NP Arrays.\n",
    "            model_bytes = np.array(model_matrix, dtype='f4').T.flatten().tobytes()\n",
    "            view_bytes = np.array(view_matrix, dtype='f4').T.flatten().tobytes()\n",
    "            proj_bytes = np.array(proj_matrix, dtype='f4').T.flatten().tobytes()\n",
    "                \n",
    "            # Write to Uniforms.\n",
    "            program['model'].write(model_bytes)\n",
    "            program['view'].write(view_bytes)\n",
    "            program['proj'].write(proj_bytes)\n",
    "                \n",
    "        except Exception as e:\n",
    "            pass \n",
    "\n",
    "    # Clear Screen and Render.\n",
    "    try:\n",
    "        ctx.clear(0.1, 0.1, 0.1)\n",
    "        if vao is not None:\n",
    "            vao.render(moderngl.TRIANGLES)\n",
    "        \n",
    "    except Exception as e:\n",
    "        pass  # Handle rendering exceptions silently\n",
    "        \n",
    "    pygame.display.flip()\n",
    "\n",
    "pygame.quit()"
   ]
  }
 ],
 "metadata": {
  "kernelspec": {
   "display_name": "Python 3 (ipykernel)",
   "language": "python",
   "name": "python3"
  },
  "language_info": {
   "codemirror_mode": {
    "name": "ipython",
    "version": 3
   },
   "file_extension": ".py",
   "mimetype": "text/x-python",
   "name": "python",
   "nbconvert_exporter": "python",
   "pygments_lexer": "ipython3",
   "version": "3.12.2"
  }
 },
 "nbformat": 4,
 "nbformat_minor": 5
}
