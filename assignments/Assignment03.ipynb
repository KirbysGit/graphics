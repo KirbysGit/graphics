{
 "cells": [
  {
   "cell_type": "markdown",
   "id": "0dfc2253-7c19-46f8-85fe-94c448495cfb",
   "metadata": {},
   "source": [
    "Assignment 3 : Colin Kirby"
   ]
  },
  {
   "cell_type": "code",
   "execution_count": 2,
   "id": "bfa33f58-7450-4c3f-af5c-eff5b64cc752",
   "metadata": {},
   "outputs": [
    {
     "name": "stdout",
     "output_type": "stream",
     "text": [
      "pygame 2.6.0 (SDL 2.28.4, Python 3.12.4)\n",
      "Hello from the pygame community. https://www.pygame.org/contribute.html\n"
     ]
    }
   ],
   "source": [
    "# Imports.\n",
    "import pygame\n",
    "import moderngl\n",
    "import numpy as np"
   ]
  },
  {
   "cell_type": "code",
   "execution_count": 3,
   "id": "6da0961d-d4ea-4fa3-bf46-86d52b28ec6e",
   "metadata": {},
   "outputs": [],
   "source": [
    "# Generate T Values from -1 to 1.\n",
    "t_vals = np.linspace(-1, 1, 3000)\n",
    "\n",
    "# Initialize Empty List.\n",
    "x_vals = []\n",
    "y_vals = []\n",
    "\n",
    "# Loop Through Values Setting X and Y for Heart Shape.\n",
    "for t in t_vals:\n",
    "    x = np.sin(t) * np.cos(t) * np.log(np.abs(t))\n",
    "    y = (np.abs(t) ** 0.3) * (np.sqrt(np.cos(t))) - 0.5\n",
    "\n",
    "    # Append Calculated Values to List.\n",
    "    x_vals.append(x)\n",
    "    y_vals.append(y)\n",
    "\n",
    "# Set X Values and Y Values to Numpy Array.\n",
    "x_vals = np.array(x_vals)\n",
    "y_vals = np.array(y_vals)\n",
    "\n",
    "# Combine x_vals and y_vals into a vertices array along with 0 for z and 1 for w.\n",
    "vertices = np.column_stack((x_vals, y_vals, np.zeros_like(x_vals), np.ones_like(x_vals))).astype(np.float32)"
   ]
  },
  {
   "cell_type": "code",
   "execution_count": 4,
   "id": "55a44a03-3755-4a35-8b3b-686c4122477e",
   "metadata": {},
   "outputs": [],
   "source": [
    "# Initialize Pygame and Set up window.\n",
    "pygame.init\n",
    "pygame.display.set_mode((800, 600), pygame.OPENGL | pygame.DOUBLEBUF)\n",
    "pygame.display.gl_set_attribute(pygame.GL_CONTEXT_MAJOR_VERSION,4)\n",
    "pygame.display.gl_set_attribute(pygame.GL_CONTEXT_MINOR_VERSION,3)\n",
    "pygame.display.set_caption(title = \"Assignment 3 : Colin Kirby\")"
   ]
  },
  {
   "cell_type": "code",
   "execution_count": 5,
   "id": "206682e4-f924-42a7-8698-c211b34ddd08",
   "metadata": {},
   "outputs": [],
   "source": [
    "# Create OpenGL context.\n",
    "gl = moderngl.get_context()"
   ]
  },
  {
   "cell_type": "code",
   "execution_count": 6,
   "id": "269e1b71-5f67-44fb-afc7-69c32750a1e8",
   "metadata": {},
   "outputs": [],
   "source": [
    "# Create GPU Buffer for Vertex Data.\n",
    "vertex_buf = gl.buffer(vertices)"
   ]
  },
  {
   "cell_type": "code",
   "execution_count": 7,
   "id": "2afd5414-645d-40fb-94d4-950c59c7972c",
   "metadata": {},
   "outputs": [],
   "source": [
    "vertex_shader_code = '''\n",
    "#version 330 core\n",
    "\n",
    "layout (location = 0) in vec4 in_vertex;\n",
    "uniform float zoomFactor;\n",
    "uniform float aspect;\n",
    "\n",
    "void main (){\n",
    "    gl_Position = vec4(in_vertex.x/(zoomFactor*aspect), in_vertex.y/(zoomFactor), in_vertex.zw);\n",
    "}\n",
    "'''"
   ]
  },
  {
   "cell_type": "code",
   "execution_count": 8,
   "id": "83dd6779-f3e8-47d5-8272-af479fc57d37",
   "metadata": {},
   "outputs": [],
   "source": [
    "fragment_shader_code = '''\n",
    "#version 330 core\n",
    "\n",
    "layout (location = 0) out vec4 out_color;\n",
    "\n",
    "void main() {\n",
    "    out_color = vec4(1, 0, 1, 1);\n",
    "}\n",
    "'''\n"
   ]
  },
  {
   "cell_type": "code",
   "execution_count": 9,
   "id": "ced93809-4a29-4082-b86d-b7226b9f5187",
   "metadata": {},
   "outputs": [],
   "source": [
    "# Create new shader program in OpenGl.\n",
    "program = gl.program(vertex_shader=vertex_shader_code, fragment_shader=fragment_shader_code)"
   ]
  },
  {
   "cell_type": "code",
   "execution_count": 10,
   "id": "cd5fb22e-303a-4341-a6f9-f46bb97d2668",
   "metadata": {},
   "outputs": [],
   "source": [
    "# Create Vertex Array Obj.\n",
    "renderable = gl.vertex_array(program, [(vertex_buf, '4f', 'in_vertex')]) "
   ]
  },
  {
   "cell_type": "code",
   "execution_count": 11,
   "id": "0af3985a-e2fd-4656-ab26-284746cb4200",
   "metadata": {},
   "outputs": [],
   "source": [
    "# Clear Background Screen.\n",
    "gl.clear(0.2,0.2,0.2)\n",
    "\n",
    "# Render the VAO using Shader Program.\n",
    "renderable.render()\n",
    "\n",
    "# Update display with Rendered Content.\n",
    "pygame.display.flip()"
   ]
  },
  {
   "cell_type": "code",
   "execution_count": null,
   "id": "1de0cc49-f07a-499d-ba54-128ee2ef6d7b",
   "metadata": {},
   "outputs": [],
   "source": [
    "# Variables for Zoom and Aspect Ratio.\n",
    "zoomFactor = 1.0\n",
    "deltaZoom = 0.025\n",
    "min_zoom = 1/5\n",
    "max_zoom = 5\n",
    "zoom_in = True\n",
    "aspect = 800 / 600 \n",
    "\n",
    "# Rendering Loop.\n",
    "running = True\n",
    "clock = pygame.time.Clock()\n",
    "\n",
    "# While Running.\n",
    "while running:\n",
    "    for event in pygame.event.get():\n",
    "        if event.type == pygame.QUIT or (event.type == pygame.KEYDOWN and event.key == pygame.K_ESCAPE):\n",
    "            running = False\n",
    "\n",
    "    # Update Zoom Factor.\n",
    "    if zoom_in:\n",
    "        zoomFactor += deltaZoom\n",
    "        if zoomFactor >= max_zoom:\n",
    "            zoom_in = False\n",
    "    else:\n",
    "        zoomFactor -= deltaZoom\n",
    "        if zoomFactor <= min_zoom:\n",
    "            zoom_in = True\n",
    "\n",
    "    # Set Zoom and Aspect Variables.\n",
    "    program['zoomFactor'].value = zoomFactor\n",
    "    program['aspect'].value = aspect\n",
    "\n",
    "    # Clear Screen and Render.\n",
    "    gl.clear(0.2, 0.2, 0.2)  # Background color\n",
    "    renderable.render(moderngl.TRIANGLE_FAN)\n",
    "\n",
    "    # Swap Buffer.\n",
    "    pygame.display.flip()\n",
    "    clock.tick(60)  # 60 FPS\n",
    "\n",
    "# Quit Pygame.\n",
    "pygame.quit()\n"
   ]
  }
 ],
 "metadata": {
  "kernelspec": {
   "display_name": "Python 3 (ipykernel)",
   "language": "python",
   "name": "python3"
  },
  "language_info": {
   "codemirror_mode": {
    "name": "ipython",
    "version": 3
   },
   "file_extension": ".py",
   "mimetype": "text/x-python",
   "name": "python",
   "nbconvert_exporter": "python",
   "pygments_lexer": "ipython3",
   "version": "3.12.4"
  }
 },
 "nbformat": 4,
 "nbformat_minor": 5
}
