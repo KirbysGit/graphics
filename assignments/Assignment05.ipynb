{
 "cells": [
  {
   "cell_type": "code",
   "execution_count": 1,
   "id": "bb20a1d5-6798-4c98-a22b-3d769d5441a1",
   "metadata": {},
   "outputs": [
    {
     "name": "stdout",
     "output_type": "stream",
     "text": [
      "pygame 2.6.0 (SDL 2.28.4, Python 3.12.4)\n",
      "Hello from the pygame community. https://www.pygame.org/contribute.html\n"
     ]
    }
   ],
   "source": [
    "# Imports.\n",
    "import pygame\n",
    "import moderngl\n",
    "import glm\n",
    "import numpy as np\n",
    "from LoadObject import getObjectData"
   ]
  },
  {
   "cell_type": "code",
   "execution_count": 2,
   "id": "8ab50eb0-6649-4c0e-97cc-4340993433e9",
   "metadata": {},
   "outputs": [],
   "source": [
    "# Initialize Pygame and OpenGL like in prev. Assignments.\n",
    "def init_window(width=800, height=600):\n",
    "    pygame.init()\n",
    "    pygame.display.set_mode((width, height), pygame.OPENGL | pygame.DOUBLEBUF)\n",
    "    pygame.display.set_caption(\"Assignment 5: Colin Kirby\")\n",
    "    \n",
    "    # Create and Set up Context.\n",
    "    ctx = moderngl.create_context()\n",
    "    ctx.enable(moderngl.CULL_FACE)\n",
    "    ctx.enable(moderngl.DEPTH_TEST)\n",
    "    \n",
    "    print(\"Context initialized with depth test and cull face enabled.\")\n",
    "    \n",
    "    return ctx"
   ]
  },
  {
   "cell_type": "code",
   "execution_count": 3,
   "id": "59effa46-15b0-4223-aaa1-8f33337b9091",
   "metadata": {},
   "outputs": [
    {
     "name": "stdout",
     "output_type": "stream",
     "text": [
      "Context initialized with depth test and cull face enabled.\n"
     ]
    }
   ],
   "source": [
    "# Initialize Window.\n",
    "ctx = init_window()"
   ]
  },
  {
   "cell_type": "code",
   "execution_count": 4,
   "id": "c58992cf-04ab-4cd9-8c97-19adf378bb44",
   "metadata": {},
   "outputs": [],
   "source": [
    "# Dictionary to set key inp to Obj.\n",
    "my_objects = {\n",
    "    pygame.K_1: \"teapot.obj\",\n",
    "    pygame.K_2: \"4_tetrahedron.obj\",\n",
    "    pygame.K_3: \"6_hexahedron.obj\",\n",
    "    pygame.K_4: \"8_octahedron.obj\",\n",
    "    pygame.K_5: \"12_dodecahedron.obj\",\n",
    "    pygame.K_6: \"20_icosahedron.obj\"\n",
    "}"
   ]
  },
  {
   "cell_type": "code",
   "execution_count": 5,
   "id": "b4b13c1e-d2e5-4297-9961-4c0f8fa27dfa",
   "metadata": {},
   "outputs": [
    {
     "name": "stdout",
     "output_type": "stream",
     "text": [
      "Normal exists\n"
     ]
    }
   ],
   "source": [
    "# Set Default to Teapot.\n",
    "current_obj = \"teapot.obj\"\n",
    "vertex_data, scene_bound = getObjectData(current_obj, normal=True)"
   ]
  },
  {
   "cell_type": "code",
   "execution_count": 6,
   "id": "c843914e-09a6-4f4a-8ced-f7da0d977cd5",
   "metadata": {},
   "outputs": [],
   "source": [
    "# Global VAO obj and Program.\n",
    "vao = None\n",
    "program = None"
   ]
  },
  {
   "cell_type": "code",
   "execution_count": 7,
   "id": "d8ea5325-feb0-4650-a367-6e3398fc935e",
   "metadata": {},
   "outputs": [],
   "source": [
    "# Upload the vertex data to the GPU\n",
    "def set_vert_data():\n",
    "    global vao, program, vertex_data\n",
    "    print(\"Uploading vertex data to GPU...\")\n",
    "    \n",
    "    try:\n",
    "        # Ensure vertex_data is a numpy array of float32\n",
    "        vertex_data = np.array(vertex_data, dtype='f4')\n",
    "        \n",
    "        # Create a VBO with the current object's data\n",
    "        vbo = ctx.buffer(vertex_data.tobytes())\n",
    "        \n",
    "        # Compile shader program\n",
    "        program = ctx.program(\n",
    "            vertex_shader=\"\"\"\n",
    "            #version 330\n",
    "            in vec3 in_position;\n",
    "            in vec3 in_normal;\n",
    "            uniform mat4 model;\n",
    "            uniform mat4 view;\n",
    "            uniform mat4 proj;\n",
    "            out vec3 frag_normal;\n",
    "\n",
    "            void main() {\n",
    "                frag_normal = in_normal;\n",
    "                gl_Position = proj * view * model * vec4(in_position, 1.0);\n",
    "            }\n",
    "            \"\"\",\n",
    "            fragment_shader=\"\"\"\n",
    "            #version 330\n",
    "            in vec3 frag_normal;\n",
    "            out vec4 frag_color;\n",
    "\n",
    "            void main() {\n",
    "                vec3 color = normalize(frag_normal) * 0.5 + 0.5;  // Compute color from normal\n",
    "                frag_color = vec4(color, 1.0);\n",
    "            }\n",
    "            \"\"\"\n",
    "        )\n",
    "    \n",
    "        \n",
    "        # Define the vertex layout (interleaving position and normal data)\n",
    "        vao = ctx.vertex_array(\n",
    "            program,\n",
    "            [\n",
    "                (vbo, '3f 3f', 'in_position', 'in_normal')  # 3 floats for position, 3 for normal\n",
    "            ]\n",
    "        )\n",
    "        \n",
    "    except Exception as e:\n",
    "        print(\"Error uploading vertex data:\", e)\n"
   ]
  },
  {
   "cell_type": "code",
   "execution_count": 8,
   "id": "aca65633-1ae1-46e5-ab44-76bab9965318",
   "metadata": {},
   "outputs": [
    {
     "name": "stdout",
     "output_type": "stream",
     "text": [
      "Uploading vertex data to GPU...\n"
     ]
    }
   ],
   "source": [
    "# Upload the vertex data for the initial object\n",
    "set_vert_data()"
   ]
  },
  {
   "cell_type": "code",
   "execution_count": 9,
   "id": "1d3f1d2e-8305-4c41-9266-a76d1ff023fe",
   "metadata": {},
   "outputs": [],
   "source": [
    "# Create projection and initial view matrices\n",
    "fov = 60.0  # Field of view for perspective matrix\n",
    "width, height = 800, 600\n",
    "aspect_ratio = width / height\n",
    "near_plane = 0.1\n",
    "far_plane = 100.0\n",
    "bound_radius = 5.0  # Adjust based on the size of the scene\n",
    "\n",
    "proj_matrix = glm.perspective(glm.radians(fov), aspect_ratio, near_plane, far_plane)"
   ]
  },
  {
   "cell_type": "code",
   "execution_count": 10,
   "id": "fbf15f75-821a-4dc4-943e-b11639f8a5d3",
   "metadata": {},
   "outputs": [],
   "source": [
    "# Global Vars.\n",
    "global vao, program, current_obj"
   ]
  },
  {
   "cell_type": "code",
   "execution_count": 11,
   "id": "4e8459a6-4119-4ba6-98a4-d8fb86441acb",
   "metadata": {},
   "outputs": [],
   "source": [
    "# Function for handling different inputs and loading objects.\n",
    "def handle_keypress(event):\n",
    "    global current_obj, vertex_data, scene_bound\n",
    "    if event.key in my_objects:\n",
    "        current_obj = my_objects[event.key]\n",
    "        vertex_data, scene_bound = getObjectData(current_obj, normal=True)\n",
    "        set_vert_data()"
   ]
  },
  {
   "cell_type": "code",
   "execution_count": 12,
   "id": "c4de9b86-6700-4a36-988c-82ca51395e11",
   "metadata": {},
   "outputs": [],
   "source": [
    "# Just translations because the teapot was positioned higher than other objects.\n",
    "translations = {\n",
    "    \"4_tetrahedron.obj\": glm.vec3(0.0, 0.0, 0.0),  \n",
    "    \"6_hexahedron.obj\": glm.vec3(0.0, 0.0, 0.0),\n",
    "    \"8_octahedron.obj\": glm.vec3(0.0, 0.0, 0.0),\n",
    "    \"12_dodecahedron.obj\": glm.vec3(0.0, 0.0, 0.0),\n",
    "    \"20_icosahedron.obj\": glm.vec3(0.0, 0.0, 0.0),\n",
    "    \"teapot.obj\": glm.vec3(0.0, -1.0, 0.0),\n",
    "}"
   ]
  },
  {
   "cell_type": "code",
   "execution_count": 13,
   "id": "d7eeebc5-7e6d-44b7-8736-fa23b8dde12d",
   "metadata": {},
   "outputs": [],
   "source": [
    "# Calculate camera position w/ 45 position\n",
    "def calculate_45_degree_orbit_camera_position(bound_radius, time_in_seconds):\n",
    "    # Angle of rotation based on time\n",
    "    angle_in_radian = time_in_seconds\n",
    "    \n",
    "    # Calculate the unit vector v, making a 45-degree angle in the XY plane\n",
    "    v = glm.vec3(np.cos(glm.radians(45.0)), 1.0, np.sin(glm.radians(45.0)))\n",
    "    \n",
    "    # Normalize vector to keep 45 degree scale\n",
    "    v = glm.normalize(v)\n",
    "    \n",
    "    # Camera's eyepoint is at twice the bound radius along the unit vector v\n",
    "    eyepoint = 2 * bound_radius * v\n",
    "\n",
    "    # Rotate the eyepoint around the Y-axis based on the time (angle)\n",
    "    rotation_matrix = glm.rotate(glm.mat4(1.0), angle_in_radian, glm.vec3(0.0, 1.0, 0.0))\n",
    "    rotated_eye_position = rotation_matrix * glm.vec4(eyepoint, 1.0)\n",
    "\n",
    "    return glm.vec3(rotated_eye_position)\n",
    "\n"
   ]
  },
  {
   "cell_type": "code",
   "execution_count": null,
   "id": "799f6f9e-5570-4de7-86bd-f203f8f56ea5",
   "metadata": {},
   "outputs": [],
   "source": [
    "# Rendering Loop with Camera and Obj Rotation\n",
    "running = True\n",
    "\n",
    "while running:\n",
    "    for event in pygame.event.get():\n",
    "        if event.type == pygame.QUIT:\n",
    "            running = False\n",
    "        elif event.type == pygame.KEYDOWN:\n",
    "            handle_keypress(event)\n",
    "\n",
    "    # Set up Model Matrix\n",
    "    model_matrix = glm.mat4(1.0)\n",
    "    \n",
    "    # Using Trans. Dict for Placing Obj.\n",
    "    translation_vector = translations.get(current_obj, glm.vec3(0.0, 0.0, 0.0))\n",
    "    model_matrix = glm.translate(model_matrix, translation_vector)\n",
    "\n",
    "    # Get Time for Camera Rotation\n",
    "    time_in_seconds = pygame.time.get_ticks() / 1000.0\n",
    "\n",
    "    # Calculate Camera Position for requirements in the assignment\n",
    "    eye_position = calculate_45_degree_orbit_camera_position(bound_radius, time_in_seconds)\n",
    "\n",
    "    # Set up the view matrix\n",
    "    view_matrix = glm.lookAt(\n",
    "        eye_position,  \n",
    "        glm.vec3(0.0, 0.0, 0.0), \n",
    "        glm.vec3(0.0, 1.0, 0.0)  \n",
    "    )\n",
    "\n",
    "    # Write Matrices to Shader\n",
    "    if vao is not None and program is not None:\n",
    "        try:\n",
    "            # Convert Matrices to NP Arrays\n",
    "            model_bytes = np.array(model_matrix, dtype='f4').T.flatten().tobytes()\n",
    "            view_bytes = np.array(view_matrix, dtype='f4').T.flatten().tobytes()\n",
    "            proj_bytes = np.array(proj_matrix, dtype='f4').T.flatten().tobytes()\n",
    "            \n",
    "            # Write to Shader Uniforms\n",
    "            program['model'].write(model_bytes)\n",
    "            program['view'].write(view_bytes)\n",
    "            program['proj'].write(proj_bytes)\n",
    "            \n",
    "        except Exception as e:\n",
    "            pass\n",
    "\n",
    "    # Clear the screen and render\n",
    "    try:\n",
    "        ctx.clear(0.1, 0.1, 0.1)\n",
    "        if vao is not None:\n",
    "            vao.render(moderngl.TRIANGLES)\n",
    "    \n",
    "    except Exception as e:\n",
    "        pass  # Handle rendering exceptions silently\n",
    "\n",
    "    # Swap display buffers to show the rendered image\n",
    "    pygame.display.flip()\n",
    "\n",
    "pygame.quit()\n"
   ]
  }
 ],
 "metadata": {
  "kernelspec": {
   "display_name": "Python 3 (ipykernel)",
   "language": "python",
   "name": "python3"
  },
  "language_info": {
   "codemirror_mode": {
    "name": "ipython",
    "version": 3
   },
   "file_extension": ".py",
   "mimetype": "text/x-python",
   "name": "python",
   "nbconvert_exporter": "python",
   "pygments_lexer": "ipython3",
   "version": "3.12.4"
  }
 },
 "nbformat": 4,
 "nbformat_minor": 5
}
