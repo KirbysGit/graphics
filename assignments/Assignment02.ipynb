{
 "cells": [
  {
   "cell_type": "markdown",
   "id": "61c6b1c5-349c-4505-b61e-e021a1f0ee5b",
   "metadata": {},
   "source": [
    "Assignment 2: Colin Kirby"
   ]
  },
  {
   "cell_type": "code",
   "execution_count": 2,
   "id": "48492bcf-7060-49d0-ae11-d9c8972ef47d",
   "metadata": {},
   "outputs": [
    {
     "name": "stdout",
     "output_type": "stream",
     "text": [
      "pygame 2.6.0 (SDL 2.28.4, Python 3.12.4)\n",
      "Hello from the pygame community. https://www.pygame.org/contribute.html\n"
     ]
    }
   ],
   "source": [
    "import pygame\n",
    "import moderngl\n",
    "import numpy"
   ]
  },
  {
   "cell_type": "code",
   "execution_count": 3,
   "id": "d93dce98-3e8c-4258-bca3-ccc6c58b1a32",
   "metadata": {},
   "outputs": [],
   "source": [
    "vertex_pos = numpy.array([\n",
    "        0.0, 0.8,\n",
    "        -0.8, -0.8,\n",
    "        0.8, -0.8\n",
    "    ]).astype(\"float32\")          "
   ]
  },
  {
   "cell_type": "code",
   "execution_count": 4,
   "id": "8be97f12-3bb8-4e3c-92a1-b3ced1949c4f",
   "metadata": {},
   "outputs": [],
   "source": [
    "pygame.init\n",
    "pygame.display.set_mode((800, 600), pygame.OPENGL | pygame.DOUBLEBUF)\n",
    "pygame.display.gl_set_attribute(pygame.GL_CONTEXT_MAJOR_VERSION,4)\n",
    "pygame.display.gl_set_attribute(pygame.GL_CONTEXT_MINOR_VERSION,3)\n",
    "pygame.display.set_caption(title = \"Assignment 2 : Colin Kirby\")"
   ]
  },
  {
   "cell_type": "code",
   "execution_count": 5,
   "id": "5a8faf83-ebbe-4c47-ba48-22281676e8e0",
   "metadata": {},
   "outputs": [],
   "source": [
    "gl = moderngl.get_context()"
   ]
  },
  {
   "cell_type": "code",
   "execution_count": 6,
   "id": "a65255a2-2acb-4559-9ea6-9aca7b31da0d",
   "metadata": {},
   "outputs": [],
   "source": [
    "position_buf = gl.buffer(vertex_pos)"
   ]
  },
  {
   "cell_type": "code",
   "execution_count": 7,
   "id": "7e2e8abc-205c-448b-a175-5b98c788d218",
   "metadata": {},
   "outputs": [],
   "source": [
    "vertex_shader_code = '''\n",
    "# version 330 core\n",
    "\n",
    "layout (location = 0) in vec2 position;\n",
    "\n",
    "void main() {\n",
    "    gl_Position = vec4(position,0.0,1.0);\n",
    "}\n",
    "'''"
   ]
  },
  {
   "cell_type": "code",
   "execution_count": 8,
   "id": "924e8a03-b22a-42f7-a04d-9183353f7ab5",
   "metadata": {},
   "outputs": [],
   "source": [
    "fragment_shader_code = '''\n",
    "#version 330 core\n",
    "\n",
    "out vec4 outColor;\n",
    "\n",
    "void main(){\n",
    "    outColor = vec4( 1.0,1.0,1.0,1.0 );\n",
    "}\n",
    "'''"
   ]
  },
  {
   "cell_type": "code",
   "execution_count": 9,
   "id": "29df3a3f-0d57-4693-9ace-b10d2ec3ce1e",
   "metadata": {},
   "outputs": [],
   "source": [
    "program = gl.program(vertex_shader=vertex_shader_code, fragment_shader =fragment_shader_code)"
   ]
  },
  {
   "cell_type": "code",
   "execution_count": 10,
   "id": "d3b4fbb7-fbf7-46ca-85c4-445f3d629336",
   "metadata": {},
   "outputs": [],
   "source": [
    "renderable = gl.vertex_array(program, [(position_buf, '2f', 'position')])"
   ]
  },
  {
   "cell_type": "code",
   "execution_count": 11,
   "id": "3391235b-0652-4474-b74e-58cb108c9461",
   "metadata": {},
   "outputs": [],
   "source": [
    "gl.clear(0.2,0.2,0.2)\n",
    "renderable.render()\n",
    "pygame.display.flip()"
   ]
  },
  {
   "cell_type": "code",
   "execution_count": null,
   "id": "30c59d19-304c-4073-bfea-6b29eb9de2bf",
   "metadata": {},
   "outputs": [],
   "source": [
    "running = True\n",
    "while running:\n",
    "    for event in pygame.event.get():\n",
    "        if event.type == pygame.QUIT or (event.type == pygame.KEYDOWN and event.key == 27):\n",
    "            running = False\n",
    "    gl.clear(0.2,0.2,0.2)\n",
    "    renderable.render()\n",
    "    \n",
    "pygame.display.flip()\n"
   ]
  }
 ],
 "metadata": {
  "kernelspec": {
   "display_name": "Python 3 (ipykernel)",
   "language": "python",
   "name": "python3"
  },
  "language_info": {
   "codemirror_mode": {
    "name": "ipython",
    "version": 3
   },
   "file_extension": ".py",
   "mimetype": "text/x-python",
   "name": "python",
   "nbconvert_exporter": "python",
   "pygments_lexer": "ipython3",
   "version": "3.12.4"
  }
 },
 "nbformat": 4,
 "nbformat_minor": 5
}
